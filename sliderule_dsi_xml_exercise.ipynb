{
 "cells": [
  {
   "cell_type": "markdown",
   "metadata": {},
   "source": [
    "# XML example and exercise\n",
    "****\n",
    "+ study examples of accessing nodes in XML tree structure  \n",
    "+ work on exercise to be completed and submitted\n",
    "****\n",
    "+ reference: https://docs.python.org/2.7/library/xml.etree.elementtree.html\n",
    "+ data source: http://www.dbis.informatik.uni-goettingen.de/Mondial\n",
    "****"
   ]
  },
  {
   "cell_type": "code",
   "execution_count": 2,
   "metadata": {
    "collapsed": true
   },
   "outputs": [],
   "source": [
    "from xml.etree import ElementTree as ET"
   ]
  },
  {
   "cell_type": "markdown",
   "metadata": {},
   "source": [
    "## XML example\n",
    "\n",
    "+ for details about tree traversal and iterators, see https://docs.python.org/2.7/library/xml.etree.elementtree.html"
   ]
  },
  {
   "cell_type": "code",
   "execution_count": 3,
   "metadata": {
    "collapsed": false
   },
   "outputs": [],
   "source": [
    "document_tree = ET.parse( './data/mondial_database_less.xml' )"
   ]
  },
  {
   "cell_type": "code",
   "execution_count": 4,
   "metadata": {
    "collapsed": false
   },
   "outputs": [
    {
     "ename": "NameError",
     "evalue": "name 'root' is not defined",
     "output_type": "error",
     "traceback": [
      "\u001b[0;31m---------------------------------------------------------------------------\u001b[0m",
      "\u001b[0;31mNameError\u001b[0m                                 Traceback (most recent call last)",
      "\u001b[0;32m<ipython-input-4-96e1ae92dfcc>\u001b[0m in \u001b[0;36m<module>\u001b[0;34m()\u001b[0m\n\u001b[1;32m      1\u001b[0m \u001b[1;31m# print names of all countries\u001b[0m\u001b[1;33m\u001b[0m\u001b[1;33m\u001b[0m\u001b[0m\n\u001b[0;32m----> 2\u001b[0;31m \u001b[1;32mfor\u001b[0m \u001b[0mchild\u001b[0m \u001b[1;32min\u001b[0m \u001b[0mroot\u001b[0m\u001b[1;33m:\u001b[0m\u001b[1;33m\u001b[0m\u001b[0m\n\u001b[0m\u001b[1;32m      3\u001b[0m     \u001b[0mprint\u001b[0m\u001b[1;33m(\u001b[0m\u001b[0mchild\u001b[0m\u001b[1;33m.\u001b[0m\u001b[0mfind\u001b[0m\u001b[1;33m(\u001b[0m\u001b[1;34m'name'\u001b[0m\u001b[1;33m)\u001b[0m\u001b[1;33m.\u001b[0m\u001b[0mtext\u001b[0m\u001b[1;33m)\u001b[0m\u001b[1;33m\u001b[0m\u001b[0m\n",
      "\u001b[0;31mNameError\u001b[0m: name 'root' is not defined"
     ]
    }
   ],
   "source": [
    "# print names of all countries\n",
    "for child in root:\n",
    "    print(child.find('name').text)"
   ]
  },
  {
   "cell_type": "code",
   "execution_count": 5,
   "metadata": {
    "collapsed": false
   },
   "outputs": [
    {
     "name": "stdout",
     "output_type": "stream",
     "text": [
      "* Albania:\n",
      "Tirana, Shkodër, Durrës, Vlorë, Elbasan, Korçë\n",
      "* Greece:\n",
      "Komotini, Kavala, Athina, Peiraias, Peristeri, Acharnes, Patra, Kozani, Kerkyra, Ioannina, Thessaloniki, Iraklio, Chania, Ermoupoli, Rhodes, Tripoli, Lamia, Chalkida, Larissa, Volos, Mytilini, Karyes\n",
      "* Macedonia:\n",
      "Skopje, Kumanovo\n",
      "* Serbia:\n",
      "Beograd, Novi Sad, Niš\n",
      "* Montenegro:\n",
      "Podgorica\n",
      "* Kosovo:\n",
      "Prishtine\n",
      "* Andorra:\n",
      "Andorra la Vella\n"
     ]
    }
   ],
   "source": [
    "# print names of all countries and their cities\n",
    "for element in document_tree.iterfind('country'):\n",
    "    print('* ' + element.find('name').text + ':'),\n",
    "    capitals_string = ''\n",
    "    for subelement in element.getiterator('city'):\n",
    "        capitals_string += subelement.find('name').text + ', '\n",
    "    print (capitals_string[:-2])"
   ]
  },
  {
   "cell_type": "markdown",
   "metadata": {},
   "source": [
    "****\n",
    "## XML exercise\n",
    "\n",
    "Using data in 'data/mondial_database.xml', the examples above, and refering to https://docs.python.org/2.7/library/xml.etree.elementtree.html, find\n",
    "\n",
    "1. 10 countries with the lowest infant mortality rates\n",
    "2. 10 cities with the largest population\n",
    "3. 10 ethnic groups with the largest overall populations (sum of best/latest estimates over all countries)\n",
    "4. name and country of a) longest river, b) largest lake and c) airport at highest elevation"
   ]
  },
  {
   "cell_type": "code",
   "execution_count": 6,
   "metadata": {
    "collapsed": true
   },
   "outputs": [],
   "source": [
    "document = ET.parse( './data/mondial_database.xml' )"
   ]
  },
  {
   "cell_type": "code",
   "execution_count": 7,
   "metadata": {
    "collapsed": false
   },
   "outputs": [
    {
     "name": "stdout",
     "output_type": "stream",
     "text": [
      "Top 10 Infant Mortality Rates\n",
      "\n",
      "1. Country: Western Sahara - 145.82\n",
      "2. Country: Afghanistan - 117.23\n",
      "3. Country: Mali - 104.34\n",
      "4. Country: Somalia - 100.14\n",
      "5. Country: Central African Republic - 92.86\n",
      "6. Country: Guinea-Bissau - 90.92\n",
      "7. Country: Chad - 90.3\n",
      "8. Country: Niger - 86.27\n",
      "9. Country: Angola - 79.99\n",
      "10. Country: Burkina Faso - 76.8\n"
     ]
    }
   ],
   "source": [
    "root = document.getroot()\n",
    "infant_mortality_stats = []\n",
    "infant_mortality_stats_unavailable = []\n",
    "\n",
    "for country in root.findall('country'):\n",
    "    try:\n",
    "        infant_mortality_stats.append((country.find('name').text,float(country.find('infant_mortality').text)))\n",
    "    except:\n",
    "        infant_mortality_stats_unavailable.append(country.find('name').text)        \n",
    "infant_mortality_stats.sort(key = lambda x: x[1],reverse=True)\n",
    "\n",
    "print('Top 10 Infant Mortality Rates\\n')\n",
    "for stat in infant_mortality_stats[:10]:\n",
    "    print(\"{0}. Country: {1} - {2}\".format(infant_mortality_stats.index(stat)+1,stat[0],stat[1]))"
   ]
  },
  {
   "cell_type": "code",
   "execution_count": 8,
   "metadata": {
    "collapsed": false
   },
   "outputs": [
    {
     "name": "stdout",
     "output_type": "stream",
     "text": [
      "Top 10 Cities By Population\n",
      "\n",
      "1. Seoul - 9,708,483\n",
      "2. Al Qahirah - 8,471,859\n",
      "3. Bangkok - 7,506,700\n",
      "4. Hong Kong - 7,055,071\n",
      "5. Ho Chi Minh - 5,968,384\n",
      "6. Singapore - 5,076,700\n",
      "7. Al Iskandariyah - 4,123,869\n",
      "8. New Taipei - 3,939,305\n",
      "9. Busan - 3,403,135\n",
      "10. Pyongyang - 3,255,288\n"
     ]
    }
   ],
   "source": [
    "city_population = []\n",
    "city_population_unavailable = []\n",
    "\n",
    "for country in root.findall('country'):\n",
    "    for city in country.findall('city'):\n",
    "        population_data = [int(population.text) for population in city.findall('population')]\n",
    "        try:\n",
    "            city_population.append((city.find('name').text,population_data[-1]))\n",
    "        except:\n",
    "            city_population_unavailable.append(city.find('name').text)\n",
    "city_population.sort(key = lambda x: x[1],reverse=True)\n",
    "\n",
    "print('Top 10 Cities By Population\\n')\n",
    "for stat in city_population[:10]:\n",
    "    print(\"{0}. {1} - {2:,}\".format(city_population.index(stat)+1,stat[0],stat[1]))"
   ]
  },
  {
   "cell_type": "code",
   "execution_count": 9,
   "metadata": {
    "collapsed": true
   },
   "outputs": [],
   "source": [
    "#First I find all the unique ethnicities.\n",
    "\n",
    "ethnicities = set()\n",
    "\n",
    "for country in root.findall('country'):\n",
    "    for ethnicity in country.findall('ethnicgroup'):\n",
    "        ethnicities.add(ethnicity.text)\n",
    "        \n",
    "ethnicity_pop_per_country = {}\n",
    "for ethnicity in ethnicities:\n",
    "    ethnicity_pop_per_country[ethnicity] = []"
   ]
  },
  {
   "cell_type": "code",
   "execution_count": 10,
   "metadata": {
    "collapsed": true
   },
   "outputs": [],
   "source": [
    "for country in root.findall('country'):\n",
    "    country_recent_population = int([pop for pop in country.findall('population')][-1].text)\n",
    "    for ethnicity in country.findall('ethnicgroup'):\n",
    "        ethnicity_pop_per_country[ethnicity.text].append(float(ethnicity.attrib['percentage'])*.01*country_recent_population)"
   ]
  },
  {
   "cell_type": "code",
   "execution_count": 11,
   "metadata": {
    "collapsed": false
   },
   "outputs": [
    {
     "name": "stdout",
     "output_type": "stream",
     "text": [
      "Top 10 Ethnicities By (Rounded) Population\n",
      "\n",
      "1. Han Chinese - 1,245,058,800\n",
      "2. Indo-Aryan - 871,815,583\n",
      "3. European - 494,872,219\n",
      "4. African - 318,325,120\n",
      "5. Dravidian - 302,713,744\n",
      "6. Mestizo - 157,734,354\n",
      "7. Bengali - 146,776,916\n",
      "8. Russian - 131,856,996\n",
      "9. Japanese - 126,534,212\n",
      "10. Malay - 121,993,550\n"
     ]
    }
   ],
   "source": [
    "ethnicity_total_pop = []\n",
    "\n",
    "for ethnicity, country_pops in ethnicity_pop_per_country.items():\n",
    "    ethnicity_total_pop.append((ethnicity, sum(country_pops)))    \n",
    "ethnicity_total_pop.sort(key=lambda x: x[1], reverse=True)\n",
    "\n",
    "print('Top 10 Ethnicities By (Rounded) Population\\n')\n",
    "for stat in ethnicity_total_pop[:10]:\n",
    "    print(\"{0}. {1} - {2:,}\".format(ethnicity_total_pop.index(stat)+1,stat[0],int(stat[1])))"
   ]
  },
  {
   "cell_type": "code",
   "execution_count": null,
   "metadata": {
    "collapsed": true
   },
   "outputs": [],
   "source": []
  },
  {
   "cell_type": "code",
   "execution_count": null,
   "metadata": {
    "collapsed": true
   },
   "outputs": [],
   "source": []
  },
  {
   "cell_type": "code",
   "execution_count": null,
   "metadata": {
    "collapsed": true
   },
   "outputs": [],
   "source": []
  },
  {
   "cell_type": "code",
   "execution_count": null,
   "metadata": {
    "collapsed": true
   },
   "outputs": [],
   "source": []
  },
  {
   "cell_type": "code",
   "execution_count": null,
   "metadata": {
    "collapsed": true
   },
   "outputs": [],
   "source": []
  },
  {
   "cell_type": "code",
   "execution_count": null,
   "metadata": {
    "collapsed": true
   },
   "outputs": [],
   "source": []
  },
  {
   "cell_type": "code",
   "execution_count": null,
   "metadata": {
    "collapsed": true
   },
   "outputs": [],
   "source": []
  }
 ],
 "metadata": {
  "anaconda-cloud": {},
  "kernelspec": {
   "display_name": "Python [default]",
   "language": "python",
   "name": "python3"
  },
  "language_info": {
   "codemirror_mode": {
    "name": "ipython",
    "version": 3
   },
   "file_extension": ".py",
   "mimetype": "text/x-python",
   "name": "python",
   "nbconvert_exporter": "python",
   "pygments_lexer": "ipython3",
   "version": "3.5.2"
  }
 },
 "nbformat": 4,
 "nbformat_minor": 0
}
